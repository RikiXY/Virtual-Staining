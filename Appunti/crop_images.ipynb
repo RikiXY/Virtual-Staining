{
 "cells": [
  {
   "cell_type": "code",
   "execution_count": 3,
   "metadata": {},
   "outputs": [],
   "source": [
    "import cv2\n",
    "import numpy as np\n",
    "import matplotlib.pyplot as plt\n",
    "from random import randint"
   ]
  },
  {
   "cell_type": "code",
   "execution_count": null,
   "metadata": {},
   "outputs": [],
   "source": [
    "full_label_free = cv2.imread('../Materiale/Locale/full_non_colorato.tif')\n",
    "full_stained = cv2.imread('../Materiale/Locale/full_colorato.tif')\n",
    "\n",
    "size = (8000, 8000)\n",
    "starting_point = (randint(3000, 17000-size[0]), randint(3000, 17000-size[1]))\n",
    "label_free_portion = full_label_free[starting_point[0]:starting_point[0]+size[0], starting_point[1]:starting_point[1]+size[1]]\n",
    "stained_portion = full_stained[starting_point[0]:starting_point[0]+size[0], starting_point[1]:starting_point[1]+size[1]]\n",
    "\n",
    "cv2.imwrite('../Materiale/Locale/porzione_non_colorato.png', label_free_portion)\n",
    "cv2.imwrite('../Materiale/Locale/porzione_colorato.png', stained_portion)\n",
    "\n",
    "plt.imshow(cv2.cvtColor(label_free_portion, cv2.COLOR_BGR2RGB))\n",
    "plt.show()"
   ]
  },
  {
   "cell_type": "code",
   "execution_count": null,
   "metadata": {},
   "outputs": [],
   "source": []
  }
 ],
 "metadata": {
  "kernelspec": {
   "display_name": "VirtualStaining",
   "language": "python",
   "name": "python3"
  },
  "language_info": {
   "codemirror_mode": {
    "name": "ipython",
    "version": 3
   },
   "file_extension": ".py",
   "mimetype": "text/x-python",
   "name": "python",
   "nbconvert_exporter": "python",
   "pygments_lexer": "ipython3",
   "version": "3.11.11"
  }
 },
 "nbformat": 4,
 "nbformat_minor": 2
}
