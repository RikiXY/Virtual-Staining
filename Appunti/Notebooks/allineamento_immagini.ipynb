{
 "cells": [
  {
   "cell_type": "markdown",
   "metadata": {},
   "source": [
    "## Definizioni e caricamenti"
   ]
  },
  {
   "cell_type": "markdown",
   "metadata": {},
   "source": [
    "### Caricamento dei moduli"
   ]
  },
  {
   "cell_type": "code",
   "execution_count": null,
   "metadata": {},
   "outputs": [],
   "source": [
    "import cv2\n",
    "import numpy as np\n",
    "import matplotlib.pyplot as plt"
   ]
  },
  {
   "cell_type": "markdown",
   "metadata": {},
   "source": [
    "### Funzioni di aiuto matplotlib"
   ]
  },
  {
   "cell_type": "code",
   "execution_count": null,
   "metadata": {},
   "outputs": [],
   "source": [
    "STD_FIGSIZE = (20, 20)\n",
    "\n",
    "def to_plot(image):\n",
    "    return cv2.cvtColor(image, cv2.COLOR_BGR2RGB)\n",
    "\n",
    "def show_image(image, title, cmap=None, figsize=STD_FIGSIZE):\n",
    "    figure = plt.figure(figsize=figsize)\n",
    "    subplot = figure.add_subplot(1, 1, 1)\n",
    "    subplot.set_title(title)\n",
    "    subplot.axis('off')\n",
    "    subplot.imshow(image, cmap=cmap)\n",
    "\n",
    "def show_side_images(image_1, title_1, image_2, title_2, cmap=None, figsize=STD_FIGSIZE):\n",
    "    figure = plt.figure(figsize=figsize)\n",
    "    subplots = figure.subplots(1, 2)\n",
    "    figure.subplots_adjust(wspace=0.01)\n",
    "    subplots[0].set_title(title_1)\n",
    "    subplots[0].axis('off')\n",
    "    subplots[0].imshow(image_1, cmap=cmap)\n",
    "    subplots[1].set_title(title_2)\n",
    "    subplots[1].axis('off')\n",
    "    subplots[1].imshow(image_2, cmap=cmap)"
   ]
  },
  {
   "cell_type": "markdown",
   "metadata": {},
   "source": [
    "### Funzioni di aiuto OpenCV"
   ]
  },
  {
   "cell_type": "markdown",
   "metadata": {},
   "source": [
    "#### Funzioni semplici"
   ]
  },
  {
   "cell_type": "code",
   "execution_count": null,
   "metadata": {},
   "outputs": [],
   "source": [
    "def convert_to_gray(image):\n",
    "    return cv2.cvtColor(image, cv2.COLOR_BGR2GRAY)\n",
    "\n",
    "def equalize_image(image):\n",
    "    return cv2.equalizeHist(image)\n",
    "\n",
    "def apply_clahe(image, clipLimit=2.0, tileGridSize=(8,8)):\n",
    "    clahe = cv2.createCLAHE(clipLimit=clipLimit, tileGridSize=tileGridSize)\n",
    "    output_image = clahe.apply(image)\n",
    "    return output_image\n",
    "\n",
    "def blur_image(image, strength=5):\n",
    "    return cv2.GaussianBlur(image, (strength, strength), 0)"
   ]
  },
  {
   "cell_type": "markdown",
   "metadata": {},
   "source": [
    "#### Filtri"
   ]
  },
  {
   "cell_type": "code",
   "execution_count": null,
   "metadata": {},
   "outputs": [],
   "source": [
    "from cv2 import DMatch\n",
    "\n",
    "DEF_FILTER_DISTANCE = 20\n",
    "DEF_LOWES_RATIO = 0.75\n",
    "\n",
    "def filter_matches_with_lowes_ratio(matches: list[DMatch], threshold=DEF_LOWES_RATIO):\n",
    "    filtered_matches = []\n",
    "    for m in matches:\n",
    "        if len(m) == 2 and m[0].distance < threshold * m[1].distance:\n",
    "            filtered_matches.append(m[0])\n",
    "    return filtered_matches\n",
    "\n",
    "# converto matches da tupla a lista (con i due punti) per utilizzi futuri, non per necessità attuale\n",
    "def filter_matches_by_euclidean_distance(matches: list[DMatch], keypoints: tuple[list, list], distance=DEF_FILTER_DISTANCE):\n",
    "    filtered_matches = []\n",
    "    for m in matches:\n",
    "        euclidean_distance = np.linalg.norm(np.array(keypoints[0][m.queryIdx].pt) - np.array(keypoints[1][m.trainIdx].pt))\n",
    "        if euclidean_distance < distance:\n",
    "            filtered_matches.append(m)\n",
    "    return filtered_matches"
   ]
  },
  {
   "cell_type": "markdown",
   "metadata": {},
   "source": [
    "#### Funzioni di match"
   ]
  },
  {
   "cell_type": "code",
   "execution_count": null,
   "metadata": {},
   "outputs": [],
   "source": [
    "from cv2 import DMatch\n",
    "\n",
    "DEF_NFEATURES = 10000\n",
    "DEF_SIFT_NFEATURES = DEF_NFEATURES\n",
    "DEF_ORB_NFEATURES = DEF_NFEATURES\n",
    "\n",
    "def compute_sift_matches(image_1, image_2, nfeatures=DEF_SIFT_NFEATURES, use_lowes_ratio=False):\n",
    "    sift = cv2.SIFT_create(nfeatures=nfeatures)\n",
    "    bf = cv2.BFMatcher(cv2.NORM_L2, crossCheck=not use_lowes_ratio)\n",
    "\n",
    "    # Detect keypoints and compute descriptors\n",
    "    keypoints_1, descriptors_1 = sift.detectAndCompute(image_1, None)\n",
    "    keypoints_2, descriptors_2 = sift.detectAndCompute(image_2, None)\n",
    "\n",
    "    # Match descriptors\n",
    "    if use_lowes_ratio:\n",
    "        matches = bf.knnMatch(descriptors_1, descriptors_2, k=2)\n",
    "        matches = filter_matches_with_lowes_ratio(matches)\n",
    "    else:\n",
    "        matches = bf.match(descriptors_1, descriptors_2)\n",
    "    matches = sorted(matches, key=lambda x: x.distance)\n",
    "    return matches, (keypoints_1, keypoints_2)\n",
    "\n",
    "def compute_orb_matches(image_1, image_2, nfeatures=DEF_ORB_NFEATURES, use_lowes_ratio=False):\n",
    "    orb = cv2.ORB_create(nfeatures=nfeatures)\n",
    "    bf = cv2.BFMatcher(cv2.NORM_HAMMING, crossCheck=not use_lowes_ratio)\n",
    "\n",
    "    # Detect keypoints and compute descriptors\n",
    "    keypoints_1, descriptors_1 = orb.detectAndCompute(image_1, None)\n",
    "    keypoints_2, descriptors_2 = orb.detectAndCompute(image_2, None)\n",
    "\n",
    "    # Match descriptors\n",
    "    if use_lowes_ratio:\n",
    "        matches = bf.knnMatch(descriptors_1, descriptors_2, k=2)\n",
    "        matches = filter_matches_with_lowes_ratio(matches)\n",
    "    else:\n",
    "        matches = bf.match(descriptors_1, descriptors_2)\n",
    "    matches = sorted(matches, key=lambda x: x.distance)\n",
    "    return matches, (keypoints_1, keypoints_2)\n",
    "\n",
    "def extract_points(matches: list[DMatch], keypoints: tuple[list, list]):\n",
    "    points = ([], [])\n",
    "    for m in matches:\n",
    "        points[0].append(keypoints[0][m.queryIdx].pt)\n",
    "        points[1].append(keypoints[1][m.trainIdx].pt)\n",
    "    return points\n",
    "\n",
    "def compute_ransac_transform(points_1, points_2):\n",
    "    points_1 = np.float32(points_1).reshape(-1,1,2)\n",
    "    points_2 = np.float32(points_2).reshape(-1,1,2)\n",
    "    H, mask = cv2.findHomography(points_2, points_1, cv2.RANSAC, 10.0)\n",
    "    return H\n",
    "\n",
    "def apply_ransac_transform(image, warp_matrix, shape=None):\n",
    "    if shape is None:\n",
    "        h, w = image.shape[:2]\n",
    "    else:\n",
    "        h, w = shape[:2]\n",
    "    output_image = cv2.warpPerspective(image, warp_matrix, (w, h))\n",
    "    return output_image\n",
    "\n",
    "def compute_ecc_transform(image_1, image_2):\n",
    "    # Initialize the warp matrix\n",
    "    warp_mode = cv2.MOTION_TRANSLATION\n",
    "    warp_matrix = np.eye(2, 3, dtype=np.float32)\n",
    "\n",
    "    # Set the stopping criteria\n",
    "    criteria = (cv2.TERM_CRITERIA_EPS | cv2.TERM_CRITERIA_COUNT, 5000, 1e-10)\n",
    "\n",
    "    # Run the ECC algorithm\n",
    "    cc, warp_matrix = cv2.findTransformECC(image_1, image_2, warp_matrix, warp_mode, criteria)\n",
    "    return warp_matrix\n",
    "\n",
    "def apply_ecc_transform(image, warp_matrix, shape=None):\n",
    "    if shape is None:\n",
    "        h, w = image.shape[:2]\n",
    "    else:\n",
    "        h, w = shape[:2]\n",
    "    output_image = cv2.warpAffine(image, warp_matrix, (w, h), flags=cv2.INTER_LINEAR + cv2.WARP_INVERSE_MAP)\n",
    "    return output_image"
   ]
  },
  {
   "cell_type": "markdown",
   "metadata": {},
   "source": [
    "#### Altre funzioni"
   ]
  },
  {
   "cell_type": "code",
   "execution_count": null,
   "metadata": {},
   "outputs": [],
   "source": [
    "def compute_countours(image, threshold1=50, threshold2=150):\n",
    "    edges = cv2.Canny(image, threshold1=threshold1, threshold2=threshold2)\n",
    "    contours, _ = cv2.findContours(edges, cv2.RETR_EXTERNAL, cv2.CHAIN_APPROX_SIMPLE)\n",
    "    return contours"
   ]
  },
  {
   "cell_type": "markdown",
   "metadata": {},
   "source": [
    "### Apertura delle immagini"
   ]
  },
  {
   "cell_type": "code",
   "execution_count": null,
   "metadata": {},
   "outputs": [],
   "source": [
    "label_free_path = \"../../Materiale/Prove/non_colorato.png\"\n",
    "stained_path = \"../../Materiale/Prove/colorato.png\"\n",
    "\n",
    "label_free = cv2.imread(label_free_path)\n",
    "stained = cv2.imread(stained_path)\n",
    "\n",
    "label_free_gray = convert_to_gray(label_free)\n",
    "stained_gray = convert_to_gray(stained)\n",
    "\n",
    "label_free_equalized = equalize_image(label_free_gray)\n",
    "stained_equalized = equalize_image(stained_gray)\n",
    "\n",
    "label_free_clahe = apply_clahe(label_free_gray, clipLimit=18.0, tileGridSize=(8, 8))\n",
    "stained_clahe = apply_clahe(stained_gray, clipLimit=18.0, tileGridSize=(8, 8))"
   ]
  },
  {
   "cell_type": "markdown",
   "metadata": {},
   "source": [
    "## Immagini iniziali"
   ]
  },
  {
   "cell_type": "code",
   "execution_count": null,
   "metadata": {},
   "outputs": [],
   "source": [
    "# show_side_images(to_plot(label_free), \"Non colorata\", to_plot(stained), \"Colorata\")\n",
    "# show_side_images(label_free_gray, \"Non colorata grigio\", stained_gray, \"Colorata grigio\", cmap='gray')\n",
    "# show_side_images(label_free_equalized, \"Non colorata equalizzata\", stained_equalized, \"Colorata equalizzata\", cmap='gray')\n",
    "# show_side_images(label_free_clahe, \"Non colorata CLAHE\", stained_clahe, \"Colorata CLAHE\", cmap='gray')\n",
    "\n",
    "figure, subplots = plt.subplots(4, 2, figsize=(10, 15))\n",
    "figure.subplots_adjust(wspace=10, hspace=10)\n",
    "\n",
    "subplots[0, 0].imshow(to_plot(label_free))\n",
    "subplots[0, 0].set_title(\"Label Free Originale\")\n",
    "subplots[0, 0].axis(\"off\")\n",
    "subplots[1, 0].imshow(label_free_gray, cmap='gray')\n",
    "subplots[1, 0].set_title(\"Label Free Grayscale\")\n",
    "subplots[1, 0].axis(\"off\")\n",
    "subplots[2, 0].imshow(label_free_clahe, cmap='gray')\n",
    "subplots[2, 0].set_title(\"Label Free CLAHE\")\n",
    "subplots[2, 0].axis(\"off\")\n",
    "subplots[3, 0].imshow(label_free_equalized, cmap='gray')\n",
    "subplots[3, 0].set_title(\"Label Free equalizeHist\")\n",
    "subplots[3, 0].axis(\"off\")\n",
    "\n",
    "subplots[0, 1].imshow(to_plot(stained))\n",
    "subplots[0, 1].set_title(\"Stained Originale\")\n",
    "subplots[0, 1].axis(\"off\")\n",
    "subplots[1, 1].imshow(stained_gray, cmap='gray')\n",
    "subplots[1, 1].set_title(\"Stained Grayscale\")\n",
    "subplots[1, 1].axis(\"off\")\n",
    "subplots[2, 1].imshow(stained_clahe, cmap='gray')\n",
    "subplots[2, 1].set_title(\"Stained CLAHE\")\n",
    "subplots[2, 1].axis(\"off\")\n",
    "subplots[3, 1].imshow(stained_equalized, cmap='gray')\n",
    "subplots[3, 1].set_title(\"Stained equalizeHist\")\n",
    "subplots[3, 1].axis(\"off\")\n",
    "\n",
    "plt.tight_layout()\n",
    "plt.show()"
   ]
  },
  {
   "cell_type": "markdown",
   "metadata": {},
   "source": [
    "# ECC"
   ]
  },
  {
   "cell_type": "code",
   "execution_count": null,
   "metadata": {},
   "outputs": [],
   "source": [
    "warp_matrix = compute_ecc_transform(label_free_equalized, stained_equalized)\n",
    "aligned_stained = apply_ecc_transform(stained, warp_matrix, shape=label_free.shape)\n",
    "\n",
    "aligned_stained_gray = convert_to_gray(aligned_stained)\n",
    "aligned_stained_equalized = equalize_image(aligned_stained_gray)\n",
    "\n",
    "difference_og = cv2.absdiff(label_free_equalized, stained_equalized)\n",
    "difference_aligned = cv2.absdiff(label_free_equalized, aligned_stained_equalized)\n",
    "\n",
    "show_side_images(to_plot(label_free), \"Non colorata\", to_plot(aligned_stained), \"Colorata allineata\")\n",
    "show_side_images(difference_og, \"Differenza assoluta tra immagini originali\", difference_aligned, \"Differenza assoluta tra immagini allineate\", cmap='gray')"
   ]
  },
  {
   "cell_type": "markdown",
   "metadata": {},
   "source": [
    "# SIFT"
   ]
  },
  {
   "cell_type": "markdown",
   "metadata": {},
   "source": [
    "## Allinamento tramite Feature Matching con SIFT e immagini originali"
   ]
  },
  {
   "cell_type": "code",
   "execution_count": null,
   "metadata": {},
   "outputs": [],
   "source": [
    "matches, keypoints = compute_sift_matches(label_free, stained)"
   ]
  },
  {
   "cell_type": "markdown",
   "metadata": {},
   "source": [
    "### Filtraggio dei match"
   ]
  },
  {
   "cell_type": "code",
   "execution_count": null,
   "metadata": {},
   "outputs": [],
   "source": [
    "filtered_matches = filter_matches_by_euclidean_distance(matches, keypoints)"
   ]
  },
  {
   "cell_type": "markdown",
   "metadata": {},
   "source": [
    "### Display dei match"
   ]
  },
  {
   "cell_type": "code",
   "execution_count": null,
   "metadata": {},
   "outputs": [],
   "source": [
    "drawn_matches = cv2.drawMatches(\n",
    "    label_free, keypoints[0],\n",
    "    stained, keypoints[1],\n",
    "    filtered_matches,\n",
    "    None,\n",
    "    flags=cv2.DrawMatchesFlags_NOT_DRAW_SINGLE_POINTS,\n",
    "    matchesThickness=5\n",
    ")\n",
    "print(f\"Matches: {len(filtered_matches)}\")\n",
    "show_image(to_plot(drawn_matches), \"Corrispondenze SIFT\")"
   ]
  },
  {
   "cell_type": "markdown",
   "metadata": {},
   "source": [
    "### Allineamento dell'immagine con RANSAC"
   ]
  },
  {
   "cell_type": "code",
   "execution_count": null,
   "metadata": {},
   "outputs": [],
   "source": [
    "points = extract_points(filtered_matches, keypoints)\n",
    "warp_matrix = compute_ransac_transform(points[0], points[1])\n",
    "aligned_stained = apply_ransac_transform(stained, warp_matrix, shape=label_free.shape)\n",
    "aligned_stained_gray = convert_to_gray(aligned_stained)\n",
    "aligned_stained_equalized = equalize_image(aligned_stained_gray)\n",
    "aligned_stained_clahe = apply_clahe(aligned_stained_gray)\n",
    "\n",
    "difference = cv2.absdiff(label_free_equalized, aligned_stained_equalized)\n",
    "\n",
    "show_side_images(to_plot(label_free), \"Non colorata\", to_plot(aligned_stained), \"Colorata allineata\")\n",
    "show_side_images(label_free_gray, \"Non colorata\", aligned_stained_gray, \"Colorata allineata\", cmap='gray')\n",
    "show_side_images(label_free_equalized, \"Non colorata\", aligned_stained_equalized, \"Colorata allineata\", cmap='gray')\n",
    "show_side_images(label_free_clahe, \"Non colorata\", aligned_stained_clahe, \"Colorata allineata\", cmap='gray')\n",
    "show_image(difference, \"Differenza assoluta tra immagini allineate\", cmap='gray')"
   ]
  },
  {
   "cell_type": "markdown",
   "metadata": {},
   "source": [
    "## Allinamento tramite Feature Matching con SIFT e immagini monocromatiche non equalizzate"
   ]
  },
  {
   "cell_type": "code",
   "execution_count": null,
   "metadata": {},
   "outputs": [],
   "source": [
    "matches, keypoints = compute_sift_matches(label_free_gray, stained_gray)"
   ]
  },
  {
   "cell_type": "markdown",
   "metadata": {},
   "source": [
    "### Filtraggio dei match"
   ]
  },
  {
   "cell_type": "code",
   "execution_count": null,
   "metadata": {},
   "outputs": [],
   "source": [
    "filtered_matches = filter_matches_by_euclidean_distance(matches, keypoints)"
   ]
  },
  {
   "cell_type": "markdown",
   "metadata": {},
   "source": [
    "### Display dei match"
   ]
  },
  {
   "cell_type": "code",
   "execution_count": null,
   "metadata": {},
   "outputs": [],
   "source": [
    "drawn_matches = cv2.drawMatches(\n",
    "    label_free, keypoints[0],\n",
    "    stained, keypoints[1],\n",
    "    filtered_matches,\n",
    "    None,\n",
    "    flags=cv2.DrawMatchesFlags_NOT_DRAW_SINGLE_POINTS,\n",
    "    matchesThickness=5\n",
    ")\n",
    "print(f\"Matches: {len(filtered_matches)}\")\n",
    "show_image(to_plot(drawn_matches), \"Corrispondenze SIFT\")"
   ]
  },
  {
   "cell_type": "markdown",
   "metadata": {},
   "source": [
    "### Allineamento dell'immagine con RANSAC"
   ]
  },
  {
   "cell_type": "code",
   "execution_count": null,
   "metadata": {},
   "outputs": [],
   "source": [
    "points = extract_points(filtered_matches, keypoints)\n",
    "warp_matrix = compute_ransac_transform(points[0], points[1])\n",
    "aligned_stained = apply_ransac_transform(stained, warp_matrix, shape=label_free.shape)\n",
    "aligned_stained_gray = convert_to_gray(aligned_stained)\n",
    "aligned_stained_equalized = equalize_image(aligned_stained_gray)\n",
    "aligned_stained_clahe = apply_clahe(aligned_stained_gray)\n",
    "\n",
    "difference = cv2.absdiff(label_free_equalized, aligned_stained_equalized)\n",
    "\n",
    "show_side_images(to_plot(label_free), \"Non colorata\", to_plot(aligned_stained), \"Colorata allineata\")\n",
    "show_side_images(label_free_gray, \"Non colorata\", aligned_stained_gray, \"Colorata allineata\", cmap='gray')\n",
    "show_side_images(label_free_equalized, \"Non colorata\", aligned_stained_equalized, \"Colorata allineata\", cmap='gray')\n",
    "show_side_images(label_free_clahe, \"Non colorata\", aligned_stained_clahe, \"Colorata allineata\", cmap='gray')\n",
    "show_image(difference, \"Differenza assoluta tra immagini allineate\", cmap='gray')"
   ]
  },
  {
   "cell_type": "markdown",
   "metadata": {},
   "source": [
    "## Allinamento tramite Feature Matching con SIFT e immagini monocromatiche equalizzate"
   ]
  },
  {
   "cell_type": "code",
   "execution_count": null,
   "metadata": {},
   "outputs": [],
   "source": [
    "matches, keypoints = compute_sift_matches(label_free_equalized, stained_equalized)\n",
    "print(f\"SIFT matches with equalizeHist and .match() = {len(matches)}\")"
   ]
  },
  {
   "cell_type": "markdown",
   "metadata": {},
   "source": [
    "### Filtraggio dei match\n",
    "\n",
    "#### Perchè mai filtrare? stai usando crossCheck=True?"
   ]
  },
  {
   "cell_type": "code",
   "execution_count": null,
   "metadata": {},
   "outputs": [],
   "source": [
    "filtered_matches = filter_matches_by_euclidean_distance(matches, keypoints)\n",
    "print(f\"SIFT matches with CLAHE and .match() + Filter (distanza euclidea) = {len(filtered_matches)}\")"
   ]
  },
  {
   "cell_type": "markdown",
   "metadata": {},
   "source": [
    "### Display dei match"
   ]
  },
  {
   "cell_type": "code",
   "execution_count": null,
   "metadata": {},
   "outputs": [],
   "source": [
    "drawn_matches = cv2.drawMatches(\n",
    "    label_free, keypoints[0],\n",
    "    stained, keypoints[1],\n",
    "    filtered_matches,\n",
    "    None,\n",
    "    flags=cv2.DrawMatchesFlags_NOT_DRAW_SINGLE_POINTS,\n",
    "    matchesThickness=5\n",
    ")\n",
    "print(f\"Matches: {len(filtered_matches)}\")\n",
    "show_image(to_plot(drawn_matches), \"Corrispondenze SIFT\")"
   ]
  },
  {
   "cell_type": "markdown",
   "metadata": {},
   "source": [
    "### Allineamento dell'immagine con RANSAC"
   ]
  },
  {
   "cell_type": "code",
   "execution_count": null,
   "metadata": {},
   "outputs": [],
   "source": [
    "points = extract_points(filtered_matches, keypoints)\n",
    "warp_matrix = compute_ransac_transform(points[0], points[1])\n",
    "aligned_stained = apply_ransac_transform(stained, warp_matrix, shape=label_free.shape)\n",
    "aligned_stained_gray = convert_to_gray(aligned_stained)\n",
    "aligned_stained_equalized = equalize_image(aligned_stained_gray)\n",
    "aligned_stained_clahe = apply_clahe(aligned_stained_gray)\n",
    "\n",
    "difference = cv2.absdiff(label_free_equalized, aligned_stained_equalized)\n",
    "\n",
    "show_side_images(to_plot(label_free), \"Non colorata\", to_plot(aligned_stained), \"Colorata allineata\")\n",
    "show_side_images(label_free_gray, \"Non colorata\", aligned_stained_gray, \"Colorata allineata\", cmap='gray')\n",
    "show_side_images(label_free_equalized, \"Non colorata\", aligned_stained_equalized, \"Colorata allineata\", cmap='gray')\n",
    "show_side_images(label_free_clahe, \"Non colorata\", aligned_stained_clahe, \"Colorata allineata\", cmap='gray')\n",
    "show_image(difference, \"Differenza assoluta tra immagini allineate\", cmap='gray')"
   ]
  },
  {
   "cell_type": "markdown",
   "metadata": {},
   "source": [
    "## Allinamento tramite Feature Matching con SIFT e immagini monocromatiche CLAHE"
   ]
  },
  {
   "cell_type": "code",
   "execution_count": null,
   "metadata": {},
   "outputs": [],
   "source": [
    "matches, keypoints = compute_sift_matches(label_free_clahe, stained_clahe)\n",
    "print(f\"SIFT con CLAHE e .match(): {len(matches)}\")"
   ]
  },
  {
   "cell_type": "markdown",
   "metadata": {},
   "source": [
    "### Filtraggio dei match"
   ]
  },
  {
   "cell_type": "code",
   "execution_count": null,
   "metadata": {},
   "outputs": [],
   "source": [
    "filtered_matches = filter_matches_by_euclidean_distance(matches, keypoints)\n",
    "print(f\"SIFT con CLAHE e .match() e filtro euclideo: {len(filtered_matches)}\")"
   ]
  },
  {
   "cell_type": "markdown",
   "metadata": {},
   "source": [
    "### Display dei match"
   ]
  },
  {
   "cell_type": "code",
   "execution_count": null,
   "metadata": {},
   "outputs": [],
   "source": [
    "drawn_matches = cv2.drawMatches(\n",
    "    label_free, keypoints[0],\n",
    "    stained, keypoints[1],\n",
    "    filtered_matches[:20],\n",
    "    None,\n",
    "    flags=cv2.DrawMatchesFlags_NOT_DRAW_SINGLE_POINTS,\n",
    "    matchesThickness=5\n",
    ")\n",
    "print(f\"Matches: {len(filtered_matches)}\")\n",
    "show_image(to_plot(drawn_matches), \"Corrispondenze SIFT\")"
   ]
  },
  {
   "cell_type": "markdown",
   "metadata": {},
   "source": [
    "### Allineamento dell'immagine con RANSAC"
   ]
  },
  {
   "cell_type": "code",
   "execution_count": null,
   "metadata": {},
   "outputs": [],
   "source": [
    "points = extract_points(filtered_matches, keypoints)\n",
    "warp_matrix = compute_ransac_transform(points[0], points[1])\n",
    "aligned_stained = apply_ransac_transform(stained, warp_matrix, shape=label_free.shape)\n",
    "aligned_stained_gray = convert_to_gray(aligned_stained)\n",
    "aligned_stained_equalized = equalize_image(aligned_stained_gray)\n",
    "aligned_stained_clahe = apply_clahe(aligned_stained_gray)\n",
    "\n",
    "difference = cv2.absdiff(label_free_equalized, aligned_stained_equalized)\n",
    "\n",
    "show_side_images(to_plot(label_free), \"Non colorata\", to_plot(aligned_stained), \"Colorata allineata\")\n",
    "show_side_images(label_free_gray, \"Non colorata\", aligned_stained_gray, \"Colorata allineata\", cmap='gray')\n",
    "show_side_images(label_free_equalized, \"Non colorata\", aligned_stained_equalized, \"Colorata allineata\", cmap='gray')\n",
    "show_side_images(label_free_clahe, \"Non colorata\", aligned_stained_clahe, \"Colorata allineata\", cmap='gray')\n",
    "show_image(difference, \"Differenza assoluta tra immagini allineate\", cmap='gray')"
   ]
  },
  {
   "cell_type": "markdown",
   "metadata": {},
   "source": [
    "# Altro"
   ]
  },
  {
   "cell_type": "markdown",
   "metadata": {},
   "source": [
    "### Crea GIF (temporaneo)"
   ]
  },
  {
   "cell_type": "code",
   "execution_count": null,
   "metadata": {},
   "outputs": [],
   "source": [
    "import matplotlib.animation as animation\n",
    "\n",
    "# Define parameters\n",
    "duration = 0.5  # seconds\n",
    "frames = 2\n",
    "fps = frames / duration\n",
    "\n",
    "fig, ax = plt.subplots(figsize=STD_FIGSIZE)\n",
    "ax.axis('off')\n",
    "\n",
    "# Initialize with fully transparent aligned_stained (alpha=0)\n",
    "blend_init = cv2.addWeighted(label_free, 1.0, aligned_stained, 0.0, 0)\n",
    "im = ax.imshow(cv2.cvtColor(blend_init, cv2.COLOR_BGR2RGB))\n",
    "\n",
    "def update(frame):\n",
    "    alpha = 0 if frame == 0 else 1\n",
    "    blended = cv2.addWeighted(label_free, 1 - alpha, aligned_stained, alpha, 0)\n",
    "    im.set_data(cv2.cvtColor(blended, cv2.COLOR_BGR2RGB))\n",
    "    return [im]\n",
    "\n",
    "ani = animation.FuncAnimation(fig, update, frames=frames, interval=1000/fps, blit=True)\n",
    "ani.save('../../Materiale/locale/blink.gif', writer='pillow', fps=fps)\n",
    "plt.close(fig)"
   ]
  },
  {
   "cell_type": "markdown",
   "metadata": {},
   "source": [
    "### Contorni"
   ]
  },
  {
   "cell_type": "code",
   "execution_count": null,
   "metadata": {},
   "outputs": [],
   "source": [
    "strength = 1\n",
    "blur_label_free = blur_image(label_free_gray, strength=strength)\n",
    "blur_stained = blur_image(stained_gray, strength=strength)\n",
    "blur_aligned_stained = blur_image(aligned_stained_gray, strength=strength)\n",
    "\n",
    "# 5. Create a black background\n",
    "height, width = label_free_gray.shape\n",
    "contour_mask_blur_label_free = np.zeros((height, width), dtype=np.uint8)\n",
    "contour_mask_blur_stained = np.zeros((height, width), dtype=np.uint8)\n",
    "contour_mask_blur_aligned_stained = np.zeros((height, width), dtype=np.uint8)\n",
    "\n",
    "# 6. Draw contours in white\n",
    "cv2.drawContours(contour_mask_blur_label_free, compute_countours(blur_label_free), contourIdx=-1, color=255, thickness=1)\n",
    "cv2.drawContours(contour_mask_blur_stained, compute_countours(blur_stained), contourIdx=-1, color=255, thickness=1)\n",
    "cv2.drawContours(contour_mask_blur_aligned_stained, compute_countours(blur_aligned_stained), contourIdx=-1, color=255, thickness=1)\n",
    "\n",
    "intersection_original = cv2.bitwise_and(contour_mask_blur_label_free, contour_mask_blur_stained)\n",
    "intersection_aligned = cv2.bitwise_and(contour_mask_blur_label_free, contour_mask_blur_aligned_stained)\n",
    "\n",
    "show_side_images(label_free_gray, \"Non colorata\", aligned_stained_gray, \"Colorata\", cmap='gray')\n",
    "show_side_images(contour_mask_blur_label_free, \"Contorni non colorata\", contour_mask_blur_stained, \"Contorni colorata\", cmap='gray')\n",
    "show_side_images(contour_mask_blur_label_free, \"Contorni non colorata\", contour_mask_blur_aligned_stained, \"Contorni colorata allineata\", cmap='gray')\n",
    "show_side_images(intersection_original, \"Intersezione contorni originali\", intersection_aligned, \"Intersezione contorni allineati\", cmap='gray')\n",
    "\n",
    "zoomed_countour_mask_1 = cv2.resize(label_free_gray, (0, 0), fx=2, fy=2)[800:1600, 800:1600]\n",
    "zoomed_countour_mask_2 = cv2.resize(aligned_stained_gray, (0, 0), fx=2, fy=2)[800:1600, 800:1600]"
   ]
  }
 ],
 "metadata": {
  "kernelspec": {
   "display_name": "VirtualStaining",
   "language": "python",
   "name": "python3"
  },
  "language_info": {
   "codemirror_mode": {
    "name": "ipython",
    "version": 3
   },
   "file_extension": ".py",
   "mimetype": "text/x-python",
   "name": "python",
   "nbconvert_exporter": "python",
   "pygments_lexer": "ipython3",
   "version": "3.11.11"
  }
 },
 "nbformat": 4,
 "nbformat_minor": 2
}
