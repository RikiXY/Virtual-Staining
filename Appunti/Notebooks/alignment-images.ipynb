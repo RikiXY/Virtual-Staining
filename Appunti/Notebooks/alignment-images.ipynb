{
    "cells": [
        {
            "cell_type": "code",
            "execution_count": null,
            "metadata": {},
            "outputs": [],
            "source": [
                "import cv2\n",
                "import numpy as np\n",
                "import matplotlib.pyplot as plt"
            ]
        },
        {
            "cell_type": "markdown",
            "metadata": {},
            "source": [
                "#### Carica le immagini"
            ]
        },
        {
            "cell_type": "code",
            "execution_count": null,
            "metadata": {},
            "outputs": [],
            "source": [
                "img1 = cv2.imread(\"../../Materiale/Prove/non_colorato.png\")\n",
                "img2 = cv2.imread(\"../../Materiale/Prove/colorato.png\")\n",
                "\n",
                "# Verifica il caricamento corretto\n",
                "if img1 is None or img2 is None:\n",
                "    print(\"Errore: una delle immagini non è stata caricata correttamente.\")\n",
                "    exit()"
            ]
        },
        {
            "cell_type": "markdown",
            "metadata": {},
            "source": [
                "#### Converti in scala di grigi"
            ]
        },
        {
            "cell_type": "code",
            "execution_count": null,
            "metadata": {},
            "outputs": [],
            "source": [
                "gray1 = cv2.cvtColor(img1, cv2.COLOR_BGR2GRAY)\n",
                "gray2 = cv2.cvtColor(img2, cv2.COLOR_BGR2GRAY)"
            ]
        },
        {
            "cell_type": "markdown",
            "metadata": {},
            "source": [
                "#### Inizializza ORB"
            ]
        },
        {
            "cell_type": "code",
            "execution_count": null,
            "metadata": {},
            "outputs": [],
            "source": [
                "orb = cv2.ORB_create(nfeatures=5000)\n",
                "\n",
                "# Trova keypoints e descrittori\n",
                "kp1, des1 = orb.detectAndCompute(gray1, None)\n",
                "kp2, des2 = orb.detectAndCompute(gray2, None)"
            ]
        },
        {
            "cell_type": "markdown",
            "metadata": {},
            "source": [
                "#### Controlla che siano stati trovati descrittori validi\n",
                "Controlla se il rilevamento delle feature ha avuto successo.  \n",
                "Se non sono stati trovati descrittori (`None`), il programma si interrompe per evitare errori successivi."
            ]
        },
        {
            "cell_type": "code",
            "execution_count": null,
            "metadata": {},
            "outputs": [],
            "source": [
                "if des1 is None or des2 is None:\n",
                "    print(\"Errore: non sono stati trovati descrittori in una delle immagini.\")\n",
                "    exit()"
            ]
        },
        {
            "cell_type": "markdown",
            "metadata": {},
            "source": [
                "#### Creazione del Matcher e KNN Matching\n",
                "Matcher con BFMatcher e KNN Matching (2 match per ogni keypoint).  \n",
                "**_Cosa fa?_**\n",
                "- `cv2.BFMatcher(cv2.NORM_HAMMING, crossCheck=False)`: crea un matcher basato su distanza di Hamming, adatto per ORB.\n",
                "- `crossCheck=False` perché vogliamo usare KNN Matching invece del solito \"match diretto\".\n",
                "- `bf.knnMatch(des1, des2, k=2)`: per ogni descrittore di img1, trova i 2 descrittori migliori in img2.\n",
                "\n",
                "Questo è utile per applicare il Lowe's Ratio Test e ridurre i falsi positivi."
            ]
        },
        {
            "cell_type": "code",
            "execution_count": null,
            "metadata": {},
            "outputs": [],
            "source": [
                "bf = cv2.BFMatcher(cv2.NORM_HAMMING, crossCheck=False)\n",
                "matches = bf.knnMatch(des1, des2, k=2)"
            ]
        },
        {
            "cell_type": "markdown",
            "metadata": {},
            "source": [
                "#### Lowe’s Ratio Test\n",
                "**_Come funziona?_**\n",
                "1. Per ogni feature nell'immagine 1, troviamo i due migliori match nell'immagine 2.\n",
                "2. Confrontiamo la distanza del primo match (m) con quella del secondo match (n).\n",
                "3. Se la distanza del miglior match è molto minore rispetto alla seconda, allora il match è considerato affidabile. Se $m.distance<ratio\\times n.distance$, allora $m$ è un match valido"
            ]
        },
        {
            "cell_type": "code",
            "execution_count": null,
            "metadata": {},
            "outputs": [],
            "source": [
                "good_matches = []\n",
                "ratio_thresh = 0.75  # Soglia standard suggerita da Lowe (0.75)\n",
                "\n",
                "for m, n in matches:\n",
                "    if m.distance < ratio_thresh * n.distance:\n",
                "        good_matches.append(m)"
            ]
        },
        {
            "cell_type": "code",
            "execution_count": null,
            "metadata": {},
            "outputs": [],
            "source": [
                "matched_img = cv2.drawMatches(img1, kp1, img2, kp2, good_matches, None,\n",
                "                              flags=cv2.DrawMatchesFlags_NOT_DRAW_SINGLE_POINTS,\n",
                "                              matchesThickness=5)\n",
                "\n",
                "# Visualizza il risultato\n",
                "plt.figure(figsize=(15, 8))\n",
                "plt.imshow(cv2.cvtColor(matched_img, cv2.COLOR_BGR2RGB))\n",
                "plt.title(f\"Feature Matching con ORB - {len(good_matches)} corrispondenze valide\")\n",
                "plt.axis(\"off\")\n",
                "plt.show()"
            ]
        },
        {
            "cell_type": "code",
            "execution_count": null,
            "metadata": {},
            "outputs": [],
            "source": [
                "# Filtra i match in base alla distanza euclidea tra keypoints corrispondenti\n",
                "filtered_matches = []\n",
                "max_distance = 50  # Distanza massima accettabile tra feature corrispondenti\n",
                "\n",
                "for match in good_matches:\n",
                "    pt1 = np.array(kp1[match.queryIdx].pt)  # Feature nell'immagine 1\n",
                "    pt2 = np.array(kp2[match.trainIdx].pt)  # Feature corrispondente nell'immagine 2\n",
                "\n",
                "    euclidean_dist = np.linalg.norm(pt1 - pt2)  # Calcola la distanza euclidea\n",
                "\n",
                "    if euclidean_dist < max_distance:\n",
                "        filtered_matches.append(match)\n",
                "\n",
                "# Disegna i match non filtrati\n",
                "# matched_img = cv2.drawMatches(img1, kp1, img2, kp2, sorted(lista, key=lambda x: x.distance)[:10], None,\n",
                "#                               flags=cv2.DrawMatchesFlags_NOT_DRAW_SINGLE_POINTS,\n",
                "#                               matchesThickness=5)\n",
                "\n",
                "matched_img = cv2.drawMatches(img1, kp1, img2, kp2, filtered_matches, None,\n",
                "                              flags=cv2.DrawMatchesFlags_NOT_DRAW_SINGLE_POINTS,\n",
                "                              matchesThickness=5)\n",
                "\n",
                "# Visualizza il risultato\n",
                "plt.figure(figsize=(15, 8))\n",
                "plt.imshow(cv2.cvtColor(matched_img, cv2.COLOR_BGR2RGB))\n",
                "plt.title(f\"Feature Matching con ORB - {len(filtered_matches)} corrispondenze valide\")\n",
                "plt.axis(\"off\")\n",
                "plt.show()"
            ]
        }
    ],
    "metadata": {
        "kernelspec": {
            "display_name": "VirtualStaining",
            "language": "python",
            "name": "python3"
        },
        "language_info": {
            "codemirror_mode": {
                "name": "ipython",
                "version": 3
            },
            "file_extension": ".py",
            "mimetype": "text/x-python",
            "name": "python",
            "nbconvert_exporter": "python",
            "pygments_lexer": "ipython3",
            "version": "3.11.11"
        }
    },
    "nbformat": 4,
    "nbformat_minor": 2
}
