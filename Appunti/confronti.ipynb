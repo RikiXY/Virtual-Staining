{
 "cells": [
  {
   "cell_type": "markdown",
   "metadata": {},
   "source": [
    "# Definizioni iniziali"
   ]
  },
  {
   "cell_type": "markdown",
   "metadata": {},
   "source": [
    "#### Pacchetti"
   ]
  },
  {
   "cell_type": "code",
   "execution_count": null,
   "metadata": {},
   "outputs": [],
   "source": [
    "import cv2\n",
    "import numpy as np\n",
    "import matplotlib.pyplot as plt"
   ]
  },
  {
   "cell_type": "markdown",
   "metadata": {},
   "source": [
    "#### Funzioni di misura"
   ]
  },
  {
   "cell_type": "code",
   "execution_count": null,
   "metadata": {},
   "outputs": [],
   "source": [
    "def mutual_information(img1: np.ndarray, img2: np.ndarray, bins: int = 256) -> float:\n",
    "    \"\"\"\n",
    "    Compute the mutual information (MI) between two grayscale images.\n",
    "    \n",
    "    :param img1: First image in grayscale.\n",
    "    :param img2: Second image in grayscale.\n",
    "    :param bins: Number of histogram bins to use (256 for 8-bit images).\n",
    "    :return: Mutual information (in bits) between img1 and img2.\n",
    "    \"\"\"\n",
    "    # Convert images to 1D numpy arrays (flatten) if they are not already\n",
    "    img1 = img1.ravel()\n",
    "    img2 = img2.ravel()\n",
    "\n",
    "    # Compute the joint histogram\n",
    "    # histogram2d returns the 2D histogram and bin edges\n",
    "    joint_hist, x_edges, y_edges = np.histogram2d(img1, img2, bins=bins)\n",
    "    \n",
    "    # Normalize the joint histogram to get the joint PDF p(x,y)\n",
    "    joint_pdf = joint_hist / np.sum(joint_hist)\n",
    "    \n",
    "    # Compute the marginal PDFs p(x) and p(y)\n",
    "    p_x = np.sum(joint_pdf, axis=1)  # Sum over columns -> marginal over x\n",
    "    p_y = np.sum(joint_pdf, axis=0)  # Sum over rows -> marginal over y\n",
    "\n",
    "    # Only consider non-zero values to avoid log(0)\n",
    "    # MI = sum p(x,y)*log( p(x,y)/(p(x)*p(y)) )\n",
    "    non_zero_idxs = joint_pdf > 0\n",
    "    mi = np.sum(joint_pdf[non_zero_idxs] * \n",
    "                np.log2(joint_pdf[non_zero_idxs] / \n",
    "                        (p_x[np.newaxis].T @ p_y[np.newaxis])[non_zero_idxs]))\n",
    "    \n",
    "    return mi"
   ]
  },
  {
   "cell_type": "markdown",
   "metadata": {},
   "source": [
    "#### Funzione di allineamento"
   ]
  },
  {
   "cell_type": "code",
   "execution_count": null,
   "metadata": {},
   "outputs": [],
   "source": []
  },
  {
   "cell_type": "markdown",
   "metadata": {},
   "source": [
    "Controllo dei diversi metodi per applicare CLAHE alle immagini originali"
   ]
  },
  {
   "cell_type": "code",
   "execution_count": null,
   "metadata": {},
   "outputs": [],
   "source": [
    "clipLimits = [10.0, 11.0, 12.0, 13.0, 14.0, 15.0, 16.0, 17.0, 18.0, 19.0, 20.0]\n",
    "tileGridSizes = [(4, 4), (5, 5), (6, 6), (7, 7), (8, 8), (9, 9), (10, 10), (11, 11), (12, 12)]\n",
    "\n",
    "highest = (None, None, 0)\n",
    "for clipLimit in clipLimits:\n",
    "    for tileGridSize in tileGridSizes:\n",
    "        label_free_clahe = apply_clahe(label_free_gray, clipLimit=clipLimit, tileGridSize=tileGridSize)\n",
    "        stained_clahe = apply_clahe(stained_gray, clipLimit=clipLimit, tileGridSize=tileGridSize)\n",
    "        _, score = align(label_free_clahe, stained_clahe, image_to_align=stained_gray, image_to_confront=label_free_gray, mode=MODE_ORB, use_lowes_ratio=False, use_euclidean_distance=True)\n",
    "        print(f\"CLAHE\\tCL: {clipLimit}\\tTGS: {tileGridSize}\\tSCORE: {score}\")\n",
    "        if score > highest[2]:\n",
    "            highest = (clipLimit, tileGridSize, score)\n",
    "print(f\"BEST - CL: {highest[0]} - TGS: {highest[1]} - SCORE: {highest[2]}\")"
   ]
  }
 ],
 "metadata": {
  "kernelspec": {
   "display_name": "VirtualStaining",
   "language": "python",
   "name": "python3"
  },
  "language_info": {
   "name": "python",
   "version": "3.11.11"
  }
 },
 "nbformat": 4,
 "nbformat_minor": 2
}
